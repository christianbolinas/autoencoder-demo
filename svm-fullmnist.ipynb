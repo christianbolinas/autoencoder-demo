{
 "cells": [
  {
   "cell_type": "markdown",
   "id": "57709738-544f-43f3-be15-a12822edc86e",
   "metadata": {},
   "source": [
    "# %%[markdown]\n",
    "\n",
    "# SVM, RBF kernel, MNIST"
   ]
  },
  {
   "cell_type": "code",
   "execution_count": null,
   "id": "2f714f53-e793-423c-a34e-4566d637c5d2",
   "metadata": {},
   "outputs": [
    {
     "data": {
      "text/plain": [
       "RandomState(MT19937) at 0x1D3C0535A40"
      ]
     },
     "execution_count": 1,
     "metadata": {},
     "output_type": "execute_result"
    }
   ],
   "source": [
    "# %%\n",
    "\n",
    "import numpy as np\n",
    "import matplotlib.pyplot as plt\n",
    "from sklearn.svm import SVC\n",
    "from sklearn.utils import check_random_state\n",
    "from sklearn.metrics import accuracy_score\n",
    "\n",
    "import time\n",
    "from tqdm.notebook import tqdm\n",
    "\n",
    "SEED = 69\n",
    "np.random.seed(SEED)\n",
    "check_random_state(SEED)"
   ]
  },
  {
   "cell_type": "code",
   "execution_count": null,
   "id": "e84c9ba5-3bc4-44be-8156-26eb4ea1e015",
   "metadata": {},
   "outputs": [],
   "source": [
    "# %%\n",
    "\n",
    "X_tr = np.load('x_train.npy')\n",
    "Y_tr = np.load('y_train.npy')\n",
    "X_te = np.load('x_test.npy')\n",
    "Y_te = np.load('y_test.npy')"
   ]
  },
  {
   "cell_type": "code",
   "execution_count": null,
   "id": "6507d6af-57d2-4ff5-908f-65dc7388b8bb",
   "metadata": {},
   "outputs": [],
   "source": [
    "# %%\n",
    "\n",
    "svm = SVC()\n",
    "svm.fit(X_tr, Y_tr)\n",
    "acc = accuracy_score(svm.predict(X_te), Y_te)"
   ]
  },
  {
   "cell_type": "code",
   "execution_count": null,
   "id": "da0fbc94-bdf3-4093-b444-add5036232d7",
   "metadata": {},
   "outputs": [
    {
     "name": "stdout",
     "output_type": "stream",
     "text": [
      "RBF SVM accuracy was 97.92%.\n"
     ]
    }
   ],
   "source": [
    "# %%\n",
    "\n",
    "print(f'RBF SVM accuracy was {acc * 100:.2f}%.')"
   ]
  }
 ],
 "metadata": {
  "language_info": {
   "codemirror_mode": {
    "name": "ipython",
    "version": 3
   },
   "file_extension": ".py",
   "mimetype": "text/x-python",
   "name": "python",
   "nbconvert_exporter": "python",
   "pygments_lexer": "ipython3",
   "version": 3
  }
 },
 "nbformat": 4,
 "nbformat_minor": 2
}
