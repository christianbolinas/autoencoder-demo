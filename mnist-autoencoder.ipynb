{
 "cells": [
  {
   "cell_type": "markdown",
   "id": "ce2ab8a7",
   "metadata": {},
   "source": [
    "# Deep Feature Engineering\n",
    "As an aside, as of receiving my report card a few days ago, I've officially completed the academic requirements for the CS degree, after four fun (besides compilers...) semesters and with a middling 3.2 GPA.\n",
    "\n",
    "In today's recreational coding session, we'll be taking a look at some nonlinear dimensionality reduction techniques. Hopefully, this can be a sort of \"BYE SISTER\" for linear dimensionality reduction techniques, because they suck.\n",
    "\n",
    "> (_I'll_, because none of my buddies want to do recreational machine learning...)\n",
    "\n",
    "In my internship this past semester (part-time, for-credit, that the CS department was nice enough to hook me up with), our project was a pretty open-ended data analysis task involving noisy, high-dimension computational biology data the NOAA had. The data was giving the tools the biologists were familiar with some trouble. Our boss said that principal component analysis, which is a linear dimensionality reduction technique, was the tool people in the domain used for this task and pointed us to it as a reasonable starting point.\n",
    "\n",
    "However, the data was \"real-life\" enough that PCA didn't work; rather than attempt to _make it work_, my team, in a show of unashamed bias towards computational methods, decided we were going to find a novel result with them. (We study machine learning, not statistics, so instead of thinking hard and solving the problem elegantly, we decided to just throw GPUs at it.)\n",
    "\n",
    "> In all seriousness, in my limited experience goofing off on Kaggle datasets, PCA _doesn't work_ in general. I'm inclined to think that elegant techniques like PCA don't work for real-life data analysis tasks, considering that _they don't work even on clean Kaggle data_. Real-life data is dirty, and computational, search-based techniques are the heavy machinery data practicioners ought to use.\n",
    "\n",
    "What _did_ work for our task was autoencoder varieties, which are neural network-based nonlinear generalizations of PCA. After our \"custom\" pipeline of \"sophisticated\" (standard NLP-inspired stuff, again from our computational backgrounds, which I suppose were novel for tabular biology datasets) data transformation and dimension reduction, the data analysis task was trivial for the biologists we were working for.\n",
    "\n",
    "After surveying both the literature and more informal channels of communication (reading Reddit), I have a suspicion that data practicioners underrate the power of search-based data analysis methods, due to their \"black box\" nature. No one's talking about this sort of thing, and it works great!\n",
    "\n",
    "Today, we're going to be showcasing the ability of autoencoders to automagically engineer good, real-life, __nonlinear__ features for linear models, which are more interpretable: we get the power of computational methods and the elegance and interpretability of linear models. To simulate the high-dimension, noisy nature of real-world tabular data, we'll be using the MNIST dataset, which consists of 784 numerical input variables and one categorical response variable (of 10 possible classes).\n",
    "\n",
    "With the goal of _having fun coding_, I'll be doing this without vibe coding."
   ]
  },
  {
   "cell_type": "markdown",
   "id": "385fcfd2",
   "metadata": {},
   "source": [
    "# What is the MNIST dataset? Why not just use the data from your internship?\n",
    "MNIST is a dataset of 28x28 handwritten digits. It's commonly used to benchmark machine learning algorithms. The 784 features for each datapoint are the 784 pixels in each image (from $28*28=784$), and each feature's value is how dark it was in the grayscale image, normalized to be between 0 and 1.\n",
    "\n",
    "I'm not going to use my internship's data because it's not mine to show off on the internet, but the data was noisy and featured interactions between features (columns) that affected a datapoint's label. In a handwritten digit, the pixels' values _also_ interact with each other to change what digit an image represents. For that reason, I think MNIST is a good proxy for my internship data: both have complex relationships between input variables that affect the response. The differences are that the internship data had 90,000 features per datapoint, and 2,000 datapoints, making it even messier than the image data we'll be working with today."
   ]
  },
  {
   "cell_type": "markdown",
   "id": "4a95e5e7",
   "metadata": {},
   "source": [
    "# The Experiment\n",
    "Our methodology is going to be:\n",
    "\n",
    "1. Get the data, which is already split into working and testing sets in a 6:1 ratio. To simulate real-world generalization, we'll be working with the working set, only testing on the testing set once we have a completed, tuned model.\n",
    "1. Fit a logistic regression model to the entire working set and evaluate its results on the testing set. I expect this to be on the order of 90% accuracy.\n",
    "1. Preprocess the data with the standard PCA dimension reduction thing. I don't expect this to increase accuracy. PCA sucks.\n",
    "1. Build and train a powerful deep learning-based classification model called a convolutional neural network on it, which is the most powerful black box model with the best-suited inductive bias for this task. The goal is to showcase how sacrificing explainability with search-based methods can yield outrageous performance. I'm expecting around 97% accuracy here.\n",
    "1. Build and train an autoencoder, so as to reduce the dimension of the data in a more sophisticated, modern way. \n",
    "1. Train a new linear classifier on the autoencoder-processed data. Hopefully, this will get us to around 95%. \n",
    "\n",
    "Along the way, I'll try and provide some visualizations, to help us get a handle on what's happening.\n",
    "\n",
    "Let's get to coding!"
   ]
  },
  {
   "cell_type": "code",
   "execution_count": 12,
   "id": "130cbc7a",
   "metadata": {},
   "outputs": [
    {
     "data": {
      "text/plain": [
       "RandomState(MT19937) at 0x237DF00E840"
      ]
     },
     "execution_count": 12,
     "metadata": {},
     "output_type": "execute_result"
    }
   ],
   "source": [
    "# here's the libraries we'll be working with.\n",
    "# these are general ML/DS libraries.\n",
    "import numpy as np\n",
    "import pandas as pd\n",
    "import matplotlib.pyplot as plt\n",
    "from sklearn.linear_model import LogisticRegression\n",
    "from sklearn.utils import check_random_state\n",
    "from sklearn.metrics import accuracy_score\n",
    "\n",
    "# this is for general timing stuff.\n",
    "import time\n",
    "from tqdm.notebook import tqdm\n",
    "\n",
    "# lots of the algorithms we're going to use are going to use random numbers-- \n",
    "# \"why\" is out of this notebook's scope, but we'll seed those RNGs so this is reproducible.\n",
    "SEED = 69\n",
    "np.random.seed(SEED)\n",
    "check_random_state(SEED)"
   ]
  },
  {
   "cell_type": "markdown",
   "id": "092c4fa8",
   "metadata": {},
   "source": [
    "# Our data\n",
    "Let's take a look at the data we'll be working with. This is cheating, because I've already played with it before, but it's already flattened into a tabular format and normalized, which is nice to work with."
   ]
  },
  {
   "cell_type": "code",
   "execution_count": 13,
   "id": "834cf945",
   "metadata": {},
   "outputs": [
    {
     "name": "stdout",
     "output_type": "stream",
     "text": [
      "X_tr is a matrix of shape (60000, 784); Y_tr is a matrix of shape (60000,).\n",
      "X_te is a matrix of shape (10000, 784); Y_te is a matrix of shape (10000,).\n",
      "The type of an entry in the `tr` matrices is a <class 'numpy.float64'>.\n",
      "The range of pixel intensities in the first image is (0.0, 1.0).\n"
     ]
    }
   ],
   "source": [
    "# since I had the data downloaded on disk, and it's already split into train and test sets\n",
    "# we'll just load it.\n",
    "X_tr = np.load('x_train.npy')\n",
    "Y_tr = np.load('y_train.npy')\n",
    "X_te = np.load('x_test.npy')\n",
    "Y_te = np.load('y_test.npy')\n",
    "\n",
    "print(f'X_tr is a matrix of shape {X_tr.shape}; Y_tr is a matrix of shape {Y_tr.shape}.')\n",
    "print(f'X_te is a matrix of shape {X_te.shape}; Y_te is a matrix of shape {Y_te.shape}.')\n",
    "print(f'The type of an entry in the `tr` matrices is a {type(X_tr[0][0])}.')\n",
    "print(f'The range of pixel intensities in the first image is ({min(X_tr[0])}, {max(X_tr[0])}).')"
   ]
  },
  {
   "cell_type": "code",
   "execution_count": 14,
   "id": "d1e68f8b",
   "metadata": {},
   "outputs": [
    {
     "name": "stdout",
     "output_type": "stream",
     "text": [
      "The first image in the training set is labeled \"5.\"\n"
     ]
    },
    {
     "data": {
      "image/png": "[encoded data removed]",
      "text/plain": [
       "<Figure size 640x480 with 1 Axes>"
      ]
     },
     "metadata": {},
     "output_type": "display_data"
    }
   ],
   "source": [
    "first_image_np = X_tr[0].reshape(28, 28)\n",
    "first_image_label = Y_tr[0]\n",
    "print(f'The first image in the training set is labeled \"{first_image_label}.\"')\n",
    "plt.imshow(first_image_np, cmap='gray')\n",
    "plt.show()"
   ]
  },
  {
   "cell_type": "markdown",
   "id": "311fa8c0",
   "metadata": {},
   "source": [
    "# Logistic Regression\n",
    "Now, let's fit a _simple_ logistic regression model to it. We're going to use plain old cross entropy loss with no regularization to keep things nice and simple (I have a suspicion that lasso regularization would make the model \"ignore\" \"unimportant\" pixels and greatly increase performance)-- this is about nonlinear dimensionality reduction, not logistic regression hyperparameter tuning. We'll fit with one epoch of stochastic gradient descent."
   ]
  },
  {
   "cell_type": "code",
   "execution_count": 15,
   "id": "79a8b72f",
   "metadata": {},
   "outputs": [
    {
     "name": "stdout",
     "output_type": "stream",
     "text": [
      "Naive linear model achieved 92.62% accuracy in 18.69 seconds.\n"
     ]
    },
    {
     "name": "stderr",
     "output_type": "stream",
     "text": [
      "c:\\Users\\christian\\anaconda3\\Lib\\site-packages\\sklearn\\linear_model\\_sag.py:348: ConvergenceWarning: The max_iter was reached which means the coef_ did not converge\n",
      "  warnings.warn(\n"
     ]
    }
   ],
   "source": [
    "naive_logreg = LogisticRegression(max_iter=10, penalty=None, solver='saga')\n",
    "time_start = time.time()\n",
    "naive_logreg.fit(X_tr, Y_tr)\n",
    "time_end = time.time()\n",
    "preds = naive_logreg.predict(X_te)\n",
    "acc = accuracy_score(Y_te, preds)\n",
    "print(f'Naive linear model achieved {acc * 100}% accuracy in {time_end - time_start:.2f} seconds.')"
   ]
  },
  {
   "cell_type": "code",
   "execution_count": 16,
   "id": "49111d37",
   "metadata": {},
   "outputs": [
    {
     "data": {
      "image/png": "[encoded data removed]",
      "text/plain": [
       "<Figure size 640x480 with 2 Axes>"
      ]
     },
     "metadata": {},
     "output_type": "display_data"
    }
   ],
   "source": [
    "from sklearn.metrics import confusion_matrix\n",
    "import seaborn as sns\n",
    "\n",
    "cm = confusion_matrix(Y_te, preds)\n",
    "sns.heatmap(cm, annot=True, fmt='d')\n",
    "plt.title('Logistic Regression Goofs')\n",
    "plt.xlabel('Actual Digit')\n",
    "plt.ylabel('Predicted Digit')\n",
    "plt.show()"
   ]
  },
  {
   "cell_type": "markdown",
   "id": "33c081f3",
   "metadata": {},
   "source": [
    "About expected: what stands out is that the model thinks 8s are 2s and 4s are 9s."
   ]
  },
  {
   "cell_type": "markdown",
   "id": "d01a7ea8",
   "metadata": {},
   "source": [
    "# PCA, _then_ logistic regression\n",
    "Now, let's try doing PCA on the data and seeing if that increases performance. The digits were originally 28x28; we'll try getting them down to 8x8 and seeing if that looks good."
   ]
  },
  {
   "cell_type": "code",
   "execution_count": 38,
   "id": "ce082b9a",
   "metadata": {},
   "outputs": [],
   "source": [
    "from sklearn.decomposition import PCA\n",
    "pca = PCA(n_components=64)\n",
    "X_tr_pca = pca.fit_transform(X_tr)\n",
    "X_te_pca = pca.transform(X_te)"
   ]
  },
  {
   "cell_type": "code",
   "execution_count": 40,
   "id": "6295790b",
   "metadata": {},
   "outputs": [
    {
     "data": {
      "image/png": "[encoded data removed]",
      "text/plain": [
       "<Figure size 640x480 with 1 Axes>"
      ]
     },
     "metadata": {},
     "output_type": "display_data"
    }
   ],
   "source": [
    "first_img_reduced_np = X_tr_pca[0].reshape(8, 8)\n",
    "plt.imshow(first_img_reduced_np, cmap='gray')\n",
    "plt.show()"
   ]
  },
  {
   "cell_type": "code",
   "execution_count": 42,
   "id": "85eca0ac",
   "metadata": {},
   "outputs": [
    {
     "name": "stdout",
     "output_type": "stream",
     "text": [
      "Linear model with PCA achieved 91.69% accuracy in 1.69 seconds.\n"
     ]
    },
    {
     "name": "stderr",
     "output_type": "stream",
     "text": [
      "c:\\Users\\christian\\anaconda3\\Lib\\site-packages\\sklearn\\linear_model\\_sag.py:348: ConvergenceWarning: The max_iter was reached which means the coef_ did not converge\n",
      "  warnings.warn(\n"
     ]
    }
   ],
   "source": [
    "naive_logreg_pca = LogisticRegression(max_iter=10, penalty=None, solver='saga')\n",
    "time_start = time.time()\n",
    "naive_logreg.fit(X_tr_pca, Y_tr)\n",
    "time_end = time.time()\n",
    "preds = naive_logreg.predict(X_te_pca)\n",
    "acc = accuracy_score(Y_te, preds)\n",
    "print(f'Linear model with PCA achieved {acc * 100}% accuracy in {time_end - time_start:.2f} seconds.')"
   ]
  },
  {
   "cell_type": "markdown",
   "id": "fea2160e",
   "metadata": {},
   "source": [
    "We can see that that was comically bad: reducing the dimension of the dataset _decreased_ the linear model's accuracy. (In all seriousness, I squished the images down to 8x8 to make a point, but 20x20 also didn't increase accuracy.)\n",
    "\n",
    "# That's not a knife: Convolutional Neural Network\n",
    "I know that at first glance, over 90% accuracy for handwritten digits still seems pretty good, but I promise that's pretty poor for this dataset. Now, we'll break out the big guns and get _over 99%_ accuracy with a convolutional neural network, which is a black box model that generally _kicks ass_ at this sort of task. \n",
    "\n",
    "> How a CNN works is out of the scope of this notebook; the goal here is to show what's a \"good\" accuracy. No GPU, no Apple Silicon (this is an eight year-old ThinkPad): just solid architecture and hyperparameters and a few minutes of training. Like a Minecraft video I did architecture and hyperparameter tuning off camera (several months ago, when I learned what CNNs are in class)."
   ]
  },
  {
   "cell_type": "code",
   "execution_count": 20,
   "id": "7ac6380d",
   "metadata": {},
   "outputs": [
    {
     "data": {
      "text/plain": [
       "<torch._C.Generator at 0x237c8b96950>"
      ]
     },
     "execution_count": 20,
     "metadata": {},
     "output_type": "execute_result"
    }
   ],
   "source": [
    "import torch\n",
    "import torch.nn as nn\n",
    "import torch.optim as optim\n",
    "import torch.nn.functional as F\n",
    "from torch.utils.data import TensorDataset, DataLoader\n",
    "torch.manual_seed(SEED)"
   ]
  },
  {
   "cell_type": "code",
   "execution_count": 21,
   "id": "e2818438",
   "metadata": {},
   "outputs": [],
   "source": [
    "class SimpleCNN(nn.Module):\n",
    "    def __init__(self):\n",
    "        super().__init__()\n",
    "        self.conv1 = nn.Conv2d(1, 16, kernel_size=3, stride=1, padding=1)\n",
    "        self.relu1 = nn.ReLU()\n",
    "        self.pool1 = nn.MaxPool2d(kernel_size=2, stride=2)\n",
    "        self.conv2 = nn.Conv2d(16, 32, kernel_size=3, stride=1, padding=1)\n",
    "        self.relu2 = nn.ReLU()\n",
    "        self.pool2 = nn.MaxPool2d(kernel_size=2, stride=2)\n",
    "        self.dropout = nn.Dropout(0.25)\n",
    "        self.fc1 = nn.Linear(7 * 7 * 32, 128)\n",
    "        self.relu3 = nn.ReLU()\n",
    "        self.dropout2 = nn.Dropout(0.5)\n",
    "        self.fc2 = nn.Linear(128, 10)\n",
    "\n",
    "    def forward(self, x):\n",
    "        x = self.pool1(self.relu1(self.conv1(x)))\n",
    "        x = self.pool2(self.relu2(self.conv2(x)))\n",
    "        x = x.view(-1, 7 * 7 * 32)\n",
    "        x = self.dropout(x)\n",
    "        x = self.relu3(self.fc1(x))\n",
    "        x = self.dropout2(x)\n",
    "        x = self.fc2(x)\n",
    "        return x"
   ]
  },
  {
   "cell_type": "code",
   "execution_count": 22,
   "id": "05ad2678",
   "metadata": {},
   "outputs": [],
   "source": [
    "# reshaping to be in grids again to play nice with convolution\n",
    "X_tr_pt = torch.from_numpy(X_tr.reshape(-1, 1, 28, 28)).float()\n",
    "X_te_pt = torch.from_numpy(X_te.reshape(-1, 1, 28, 28)).float()\n",
    "Y_tr_pt = torch.from_numpy(Y_tr)\n",
    "Y_te_pt = torch.from_numpy(Y_te)\n",
    "\n",
    "train_loader = DataLoader(TensorDataset(X_tr_pt, Y_tr_pt), batch_size=64, shuffle=True)\n",
    "# test_loader = DataLoader(TensorDataset(X_te_pt, Y_te_pt), batch_size=64, shuffle=False)"
   ]
  },
  {
   "cell_type": "code",
   "execution_count": 23,
   "id": "d84e8122",
   "metadata": {},
   "outputs": [
    {
     "data": {
      "application/vnd.jupyter.widget-view+json": {
       "model_id": "95d72971ce604de68311a0ecacf9ae2c",
       "version_major": 2,
       "version_minor": 0
      },
      "text/plain": [
       "  0%|          | 0/10 [00:00<?, ?it/s]"
      ]
     },
     "metadata": {},
     "output_type": "display_data"
    },
    {
     "name": "stdout",
     "output_type": "stream",
     "text": [
      "Epoch 1/10: Loss = 0.35 in 17.91s\n",
      "Epoch 2/10: Loss = 0.13 in 20.83s\n",
      "Epoch 3/10: Loss = 0.10 in 20.54s\n",
      "Epoch 4/10: Loss = 0.09 in 23.86s\n",
      "Epoch 5/10: Loss = 0.08 in 26.27s\n",
      "Epoch 6/10: Loss = 0.07 in 26.00s\n",
      "Epoch 7/10: Loss = 0.06 in 25.15s\n",
      "Epoch 8/10: Loss = 0.06 in 24.92s\n",
      "Epoch 9/10: Loss = 0.06 in 24.94s\n",
      "Epoch 10/10: Loss = 0.05 in 27.25s\n"
     ]
    }
   ],
   "source": [
    "LEARNING_RATE = 0.001\n",
    "EPOCHS = 10\n",
    "\n",
    "model = SimpleCNN()\n",
    "crit = nn.CrossEntropyLoss()\n",
    "adam = optim.Adam(model.parameters(), lr=LEARNING_RATE)\n",
    "\n",
    "train_start = time.time()\n",
    "for epoch in tqdm(range(EPOCHS)):\n",
    "    ep_start = time.time()\n",
    "    model.train()\n",
    "    ep_loss = 0.0\n",
    "    for x, y in train_loader:\n",
    "        adam.zero_grad()\n",
    "        preds = model(x)\n",
    "        loss = crit(preds, y)\n",
    "        loss.backward()\n",
    "        adam.step()\n",
    "        ep_loss += loss.item()\n",
    "\n",
    "    ep_end = time.time()\n",
    "\n",
    "    print(f'Epoch {epoch + 1}/{EPOCHS}: Loss = {ep_loss/len(train_loader):.2f} in {ep_end - ep_start:.2f}s')\n",
    "\n",
    "train_end = time.time()"
   ]
  },
  {
   "cell_type": "code",
   "execution_count": 24,
   "id": "ee705d6c",
   "metadata": {},
   "outputs": [
    {
     "name": "stdout",
     "output_type": "stream",
     "text": [
      "Finished training in 3:57.\n"
     ]
    }
   ],
   "source": [
    "train_mins = int((train_end - train_start) // 60)\n",
    "train_secs = int((train_end - train_start) % 60)\n",
    "print(f'Finished training in {train_mins}:{train_secs}.')"
   ]
  },
  {
   "cell_type": "code",
   "execution_count": 25,
   "id": "b146e854",
   "metadata": {},
   "outputs": [],
   "source": [
    "torch.save(model, 'CNN.pth')"
   ]
  },
  {
   "cell_type": "code",
   "execution_count": 26,
   "id": "8acef9e2",
   "metadata": {},
   "outputs": [],
   "source": [
    "loaded_model = torch.load('CNN.pth')\n",
    "loaded_model.eval()\n",
    "\n",
    "with torch.no_grad():\n",
    "    out = loaded_model(X_te_pt)\n",
    "    _, preds = torch.max(out, 1)"
   ]
  },
  {
   "cell_type": "code",
   "execution_count": 27,
   "id": "77aed622",
   "metadata": {},
   "outputs": [
    {
     "name": "stdout",
     "output_type": "stream",
     "text": [
      "Model achieved 99.16% accuracy in just over 4 minutes.\n"
     ]
    }
   ],
   "source": [
    "model_acc = 100 * ((preds == Y_te_pt).sum().item() / len(preds)) # functional!\n",
    "print(f'Model achieved {model_acc:.2f}% accuracy in just over 4 minutes.')"
   ]
  },
  {
   "cell_type": "markdown",
   "id": "3591a150",
   "metadata": {},
   "source": [
    "That's an undeniable improvement over the linear model: it should show that we can do much better than 92%.\n",
    "\n",
    "![](thanos.png)\n",
    "\n",
    "For reference, the best any lab's gotten is 99.87%: `https://paperswithcode.com/sota/image-classification-on-mnist`.\n",
    "\n",
    "# Autoencoders\n",
    "Now, let's see if we can increase the accuracy of a linear model by doing _nonlinear_ dimension reduction. An autoencoder is a neural network that learns the best way to \"squish\" high-dimensional data down into a lower-dimensional space _without losing information_, based on how well it can reconstruct the original input from its \"squished\" representation. I'll also make it with a nice `sklearn`-like `fit_transform()` API.\n",
    "\n",
    "I'm using the Leaky ReLU for my hidden activation functions because I've found better results in the past with it (once...) than plain old ReLU."
   ]
  },
  {
   "cell_type": "code",
   "execution_count": 28,
   "id": "3b1032ed",
   "metadata": {},
   "outputs": [],
   "source": [
    "class Autoencoder_64(nn.Module):\n",
    "    def __init__(self):\n",
    "        super().__init__()\n",
    "        # this is what \"squishes\"\n",
    "        self.encoder = nn.Sequential(\n",
    "            nn.Linear(28 * 28, 512),\n",
    "            nn.LeakyReLU(),\n",
    "            nn.Linear(512, 256),\n",
    "            nn.LeakyReLU(),\n",
    "            nn.Linear(256, 128),\n",
    "            nn.LeakyReLU(),\n",
    "            nn.Linear(128, 64),\n",
    "        )\n",
    "        \n",
    "        # this is what \"stretches\"\n",
    "        self.decoder = nn.Sequential(\n",
    "            nn.Linear(64, 128),\n",
    "            nn.LeakyReLU(),\n",
    "            nn.Linear(128, 256),\n",
    "            nn.LeakyReLU(),\n",
    "            nn.Linear(256, 512),\n",
    "            nn.LeakyReLU(),\n",
    "            nn.Linear(512, 28 * 28),\n",
    "            nn.Sigmoid(),\n",
    "        )\n",
    "\n",
    "    def forward(self, x):\n",
    "        encoded = self.encoder(x)\n",
    "        decoded =  self.decoder(encoded)\n",
    "        return decoded\n",
    "    \n",
    "    # x is the numpy array, already flattened and normalized\n",
    "    def fit(self, x, epochs=10, learning_rate=0.001, verbose=True):\n",
    "        self.train()\n",
    "        loader = DataLoader(torch.from_numpy(x).float(), batch_size=64, shuffle=True)\n",
    "        adam = optim.Adam(self.parameters(), lr=learning_rate)\n",
    "        crit = nn.MSELoss()\n",
    "        train_start = time.time()\n",
    "        for epoch in tqdm(range(epochs)):\n",
    "            ep_start = time.time()\n",
    "            ep_loss = 0.0\n",
    "            for x in loader:\n",
    "                adam.zero_grad()\n",
    "                reconstructed = self(x)\n",
    "                loss = crit(x, reconstructed)\n",
    "                loss.backward()\n",
    "                adam.step()\n",
    "                ep_loss += loss.item()\n",
    "            ep_end = time.time()\n",
    "            if verbose:\n",
    "                print(f'Epoch {epoch + 1}/{epochs}: Loss = {ep_loss/len(loader):.2f} in {ep_end - ep_start:.2f}s')\n",
    "        train_end = time.time()\n",
    "        if verbose:\n",
    "            train_mins = int((train_end - train_start) // 60)\n",
    "            train_secs = int((train_end - train_start) % 60)\n",
    "            fname = 'ae_64.pth'\n",
    "            print(f'Finished training in {train_mins}:{train_secs}.')\n",
    "            print(f'Saving as {fname}.')\n",
    "        torch.save(self, fname)\n",
    "        return self\n",
    "\n",
    "    # takes in and outputs numpy\n",
    "    def transform(self, x):\n",
    "        self.eval()\n",
    "        with torch.no_grad():\n",
    "            out = self.encoder(torch.from_numpy(x).float()).numpy()\n",
    "        return out\n",
    "    \n",
    "    def fit_transform(self, x, epochs=10, learning_rate=0.001, verbose=True):\n",
    "        self.fit(x, epochs=epochs, learning_rate=learning_rate, verbose=verbose)\n",
    "        out = self.transform(x)\n",
    "        return out\n",
    "    \n",
    "    def reconstruct(self, x):\n",
    "        self.eval()\n",
    "        with torch.no_grad():\n",
    "            x_tensor = torch.from_numpy(x).float()\n",
    "            out = self(x_tensor).numpy()\n",
    "        return out"
   ]
  },
  {
   "cell_type": "code",
   "execution_count": 29,
   "id": "5ef26a8f",
   "metadata": {},
   "outputs": [
    {
     "data": {
      "application/vnd.jupyter.widget-view+json": {
       "model_id": "cf3a37ef5bdc488fa7e89339840a224b",
       "version_major": 2,
       "version_minor": 0
      },
      "text/plain": [
       "  0%|          | 0/10 [00:00<?, ?it/s]"
      ]
     },
     "metadata": {},
     "output_type": "display_data"
    },
    {
     "name": "stdout",
     "output_type": "stream",
     "text": [
      "Epoch 1/10: Loss = 0.04 in 22.51s\n",
      "Epoch 2/10: Loss = 0.02 in 23.80s\n",
      "Epoch 3/10: Loss = 0.02 in 21.61s\n",
      "Epoch 4/10: Loss = 0.01 in 22.52s\n",
      "Epoch 5/10: Loss = 0.01 in 22.37s\n",
      "Epoch 6/10: Loss = 0.01 in 20.27s\n",
      "Epoch 7/10: Loss = 0.01 in 20.15s\n",
      "Epoch 8/10: Loss = 0.01 in 20.29s\n",
      "Epoch 9/10: Loss = 0.01 in 20.46s\n",
      "Epoch 10/10: Loss = 0.01 in 19.52s\n",
      "Finished training in 3:33.\n",
      "Saving as ae_64.pth.\n"
     ]
    }
   ],
   "source": [
    "ae64 = Autoencoder_64()\n",
    "transformed = ae64.fit_transform(X_tr)"
   ]
  },
  {
   "cell_type": "markdown",
   "id": "58c57d33",
   "metadata": {},
   "source": [
    "Anyway, let's now take a look at the 8x8 images the autoencoder made, as well as its reconstructions. As you can see, while the squished representations don't look like a 5 or a 0, you can see from the reconstructions that the model did successfully learn a squished representation that captures important information!"
   ]
  },
  {
   "cell_type": "code",
   "execution_count": 30,
   "id": "08646983",
   "metadata": {},
   "outputs": [],
   "source": [
    "ae64 = torch.load('ae_64.pth')\n",
    "transformed = ae64.transform(X_tr)\n",
    "reconstructed = ae64.reconstruct(X_tr)"
   ]
  },
  {
   "cell_type": "code",
   "execution_count": 31,
   "id": "6d711579",
   "metadata": {},
   "outputs": [
    {
     "data": {
      "image/png": "[encoded data removed]",
      "text/plain": [
       "<Figure size 1000x800 with 6 Axes>"
      ]
     },
     "metadata": {},
     "output_type": "display_data"
    }
   ],
   "source": [
    "fig, axs = plt.subplots(2, 3, figsize=(10, 8))\n",
    "\n",
    "for ax_row in axs:\n",
    "    for ax in ax_row:\n",
    "        ax.set_xticks([])\n",
    "        ax.set_yticks([])\n",
    "\n",
    "axs[0, 0].imshow(X_tr[69].reshape(28, 28), cmap='gray')\n",
    "axs[0, 1].imshow(transformed[69].reshape(8, 8), cmap='gray')\n",
    "axs[0, 2].imshow(reconstructed[69].reshape(28, 28), cmap='gray')\n",
    "axs[1, 0].imshow(X_tr[420].reshape(28, 28), cmap='gray')\n",
    "axs[1, 1].imshow(transformed[420].reshape(8, 8), cmap='gray')\n",
    "axs[1, 2].imshow(reconstructed[420].reshape(28, 28), cmap='gray')\n",
    "\n",
    "column_labels = ['original', 'latent', 'reconstruction']\n",
    "for i in range(len(axs)):\n",
    "    for ax, label in zip(axs[i], column_labels):\n",
    "        ax.set_xlabel(label, fontsize=12)\n",
    "plt.show()"
   ]
  },
  {
   "cell_type": "markdown",
   "id": "e1dabdbb",
   "metadata": {},
   "source": [
    "Here's PCA doing the same thing, for reference. You'll see that the reconstruction is much less sharp: you, as a human, can see what they meant, but the weird, swirly patterns around the edges, as well as the gray background, clearly were throwing the model off."
   ]
  },
  {
   "cell_type": "code",
   "execution_count": 32,
   "id": "3d94a53c",
   "metadata": {},
   "outputs": [],
   "source": [
    "from sklearn.decomposition import PCA\n",
    "pca_64 = PCA(n_components=64)\n",
    "pca_transformed = pca_64.fit_transform(X_tr)\n",
    "pca_reconstructed = pca_64.inverse_transform(pca_transformed)"
   ]
  },
  {
   "cell_type": "code",
   "execution_count": 33,
   "id": "261f3c3c",
   "metadata": {},
   "outputs": [
    {
     "data": {
      "image/png": "[encoded data removed]",
      "text/plain": [
       "<Figure size 1000x800 with 6 Axes>"
      ]
     },
     "metadata": {},
     "output_type": "display_data"
    }
   ],
   "source": [
    "fig, axs = plt.subplots(2, 3, figsize=(10, 8))\n",
    "\n",
    "for ax_row in axs:\n",
    "    for ax in ax_row:\n",
    "        ax.set_xticks([])\n",
    "        ax.set_yticks([])\n",
    "\n",
    "axs[0, 0].imshow(X_tr[69].reshape(28, 28), cmap='gray')\n",
    "axs[0, 1].imshow(pca_transformed[69].reshape(8, 8), cmap='gray')\n",
    "axs[0, 2].imshow(pca_reconstructed[69].reshape(28, 28), cmap='gray')\n",
    "axs[1, 0].imshow(X_tr[420].reshape(28, 28), cmap='gray')\n",
    "axs[1, 1].imshow(pca_transformed[420].reshape(8, 8), cmap='gray')\n",
    "axs[1, 2].imshow(pca_reconstructed[420].reshape(28, 28), cmap='gray')\n",
    "\n",
    "column_labels = ['original', 'latent', 'reconstruction']\n",
    "for i in range(len(axs)):\n",
    "    for ax, label in zip(axs[i], column_labels):\n",
    "        ax.set_xlabel(label, fontsize=12)\n",
    "plt.show()"
   ]
  },
  {
   "cell_type": "markdown",
   "id": "57a829d4",
   "metadata": {},
   "source": [
    "Finally, let's see how well the linear classifier worked."
   ]
  },
  {
   "cell_type": "code",
   "execution_count": 34,
   "id": "ae30e269",
   "metadata": {},
   "outputs": [
    {
     "name": "stderr",
     "output_type": "stream",
     "text": [
      "c:\\Users\\christian\\anaconda3\\Lib\\site-packages\\sklearn\\linear_model\\_sag.py:348: ConvergenceWarning: The max_iter was reached which means the coef_ did not converge\n",
      "  warnings.warn(\n"
     ]
    }
   ],
   "source": [
    "transform_start = time.time()\n",
    "test_ae = ae64.transform(X_te)\n",
    "transform_end = time.time()\n",
    "ae_logreg = LogisticRegression(max_iter=10, penalty=None, solver='saga')\n",
    "time_start = time.time()\n",
    "ae_logreg.fit(transformed, Y_tr)\n",
    "time_end = time.time()\n",
    "ae_preds = ae_logreg.predict(test_ae)\n",
    "acc = accuracy_score(Y_te, ae_preds)"
   ]
  },
  {
   "cell_type": "code",
   "execution_count": 37,
   "id": "a91a1fbb",
   "metadata": {},
   "outputs": [
    {
     "name": "stdout",
     "output_type": "stream",
     "text": [
      "Autoencoder transformed test set in 0.11 seconds.\n",
      "Autoencoder + linear model achieved 94.98% accuracy in 2.77 seconds.\n"
     ]
    }
   ],
   "source": [
    "transform_time = transform_end - transform_start\n",
    "lr_time = time_end - time_start\n",
    "inf_time = transform_time + lr_time\n",
    "print(f'Autoencoder transformed test set in {transform_end - transform_start:.2f} seconds.')\n",
    "print(f'Autoencoder + linear model achieved {(acc * 100):.2f}% accuracy in {inf_time:.2f} seconds.')"
   ]
  },
  {
   "cell_type": "markdown",
   "id": "9e14eaa5",
   "metadata": {},
   "source": [
    "# Conclusion\n",
    "<img src=\"lfg.png\" width=\"350\"/>\n",
    "\n",
    "I think that there's plenty more gains to be had. I made the autoencoder, which was the core of this little inference pipeline, in a pretty careless fashion:\n",
    "\n",
    "- I didn't do any kind of architecture or hyperparameter tuning-- I just went with what felt right, and \n",
    "- I just used a standard (as opposed to denoising) autoencoder, _and_ \n",
    "- I didn't include any supervised aspect (including the label in the loss when training). \n",
    "\n",
    "But I think that I was able to show that autoencoders are capable of automatically engineering useful features for linear models in a way that principal component analysis isn't. Thanks for reading!"
   ]
  }
 ],
 "metadata": {
  "kernelspec": {
   "display_name": "base",
   "language": "python",
   "name": "python3"
  },
  "language_info": {
   "codemirror_mode": {
    "name": "ipython",
    "version": 3
   },
   "file_extension": ".py",
   "mimetype": "text/x-python",
   "name": "python",
   "nbconvert_exporter": "python",
   "pygments_lexer": "ipython3",
   "version": "3.11.5"
  }
 },
 "nbformat": 4,
 "nbformat_minor": 5
}
